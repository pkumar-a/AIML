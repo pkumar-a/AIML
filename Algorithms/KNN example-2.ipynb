{
 "cells": [
  {
   "cell_type": "code",
   "execution_count": 2,
   "metadata": {
    "colab": {
     "autoexec": {
      "startup": false,
      "wait_interval": 0
     }
    },
    "colab_type": "code",
    "id": "KkcWffn3b5mj"
   },
   "outputs": [
    {
     "data": {
      "text/html": [
       "<div>\n",
       "<style scoped>\n",
       "    .dataframe tbody tr th:only-of-type {\n",
       "        vertical-align: middle;\n",
       "    }\n",
       "\n",
       "    .dataframe tbody tr th {\n",
       "        vertical-align: top;\n",
       "    }\n",
       "\n",
       "    .dataframe thead th {\n",
       "        text-align: right;\n",
       "    }\n",
       "</style>\n",
       "<table border=\"1\" class=\"dataframe\">\n",
       "  <thead>\n",
       "    <tr style=\"text-align: right;\">\n",
       "      <th></th>\n",
       "      <th>Weight</th>\n",
       "      <th>Colour</th>\n",
       "      <th>Label</th>\n",
       "    </tr>\n",
       "  </thead>\n",
       "  <tbody>\n",
       "    <tr>\n",
       "      <td>0</td>\n",
       "      <td>303</td>\n",
       "      <td>3</td>\n",
       "      <td>B</td>\n",
       "    </tr>\n",
       "    <tr>\n",
       "      <td>1</td>\n",
       "      <td>370</td>\n",
       "      <td>1</td>\n",
       "      <td>A</td>\n",
       "    </tr>\n",
       "    <tr>\n",
       "      <td>2</td>\n",
       "      <td>298</td>\n",
       "      <td>3</td>\n",
       "      <td>B</td>\n",
       "    </tr>\n",
       "    <tr>\n",
       "      <td>3</td>\n",
       "      <td>277</td>\n",
       "      <td>3</td>\n",
       "      <td>B</td>\n",
       "    </tr>\n",
       "    <tr>\n",
       "      <td>4</td>\n",
       "      <td>377</td>\n",
       "      <td>4</td>\n",
       "      <td>A</td>\n",
       "    </tr>\n",
       "    <tr>\n",
       "      <td>5</td>\n",
       "      <td>299</td>\n",
       "      <td>3</td>\n",
       "      <td>B</td>\n",
       "    </tr>\n",
       "    <tr>\n",
       "      <td>6</td>\n",
       "      <td>382</td>\n",
       "      <td>1</td>\n",
       "      <td>A</td>\n",
       "    </tr>\n",
       "    <tr>\n",
       "      <td>7</td>\n",
       "      <td>374</td>\n",
       "      <td>4</td>\n",
       "      <td>A</td>\n",
       "    </tr>\n",
       "    <tr>\n",
       "      <td>8</td>\n",
       "      <td>303</td>\n",
       "      <td>4</td>\n",
       "      <td>B</td>\n",
       "    </tr>\n",
       "    <tr>\n",
       "      <td>9</td>\n",
       "      <td>309</td>\n",
       "      <td>3</td>\n",
       "      <td>B</td>\n",
       "    </tr>\n",
       "    <tr>\n",
       "      <td>10</td>\n",
       "      <td>359</td>\n",
       "      <td>1</td>\n",
       "      <td>A</td>\n",
       "    </tr>\n",
       "    <tr>\n",
       "      <td>11</td>\n",
       "      <td>366</td>\n",
       "      <td>1</td>\n",
       "      <td>A</td>\n",
       "    </tr>\n",
       "    <tr>\n",
       "      <td>12</td>\n",
       "      <td>311</td>\n",
       "      <td>3</td>\n",
       "      <td>B</td>\n",
       "    </tr>\n",
       "    <tr>\n",
       "      <td>13</td>\n",
       "      <td>302</td>\n",
       "      <td>3</td>\n",
       "      <td>B</td>\n",
       "    </tr>\n",
       "    <tr>\n",
       "      <td>14</td>\n",
       "      <td>373</td>\n",
       "      <td>4</td>\n",
       "      <td>A</td>\n",
       "    </tr>\n",
       "    <tr>\n",
       "      <td>15</td>\n",
       "      <td>305</td>\n",
       "      <td>3</td>\n",
       "      <td>B</td>\n",
       "    </tr>\n",
       "    <tr>\n",
       "      <td>16</td>\n",
       "      <td>371</td>\n",
       "      <td>3</td>\n",
       "      <td>A</td>\n",
       "    </tr>\n",
       "  </tbody>\n",
       "</table>\n",
       "</div>"
      ],
      "text/plain": [
       "    Weight  Colour Label\n",
       "0      303       3     B\n",
       "1      370       1     A\n",
       "2      298       3     B\n",
       "3      277       3     B\n",
       "4      377       4     A\n",
       "5      299       3     B\n",
       "6      382       1     A\n",
       "7      374       4     A\n",
       "8      303       4     B\n",
       "9      309       3     B\n",
       "10     359       1     A\n",
       "11     366       1     A\n",
       "12     311       3     B\n",
       "13     302       3     B\n",
       "14     373       4     A\n",
       "15     305       3     B\n",
       "16     371       3     A"
      ]
     },
     "execution_count": 2,
     "metadata": {},
     "output_type": "execute_result"
    }
   ],
   "source": [
    "# Let us first read the data from the file and do a quick visualization\n",
    "import pandas as pd\n",
    "import matplotlib.pyplot as plt\n",
    "train = pd.read_csv(\"01-train.csv\")\n",
    "train"
   ]
  },
  {
   "cell_type": "code",
   "execution_count": 3,
   "metadata": {
    "colab": {
     "autoexec": {
      "startup": false,
      "wait_interval": 0
     }
    },
    "colab_type": "code",
    "id": "5gtX_rX3b5mm"
   },
   "outputs": [
    {
     "data": {
      "image/png": "[encoded data removed]",
      "text/plain": [
       "<Figure size 432x288 with 1 Axes>"
      ]
     },
     "metadata": {
      "needs_background": "light"
     },
     "output_type": "display_data"
    }
   ],
   "source": [
    "apples = train[train.Label == \"A\"]\n",
    "bananas = train[train.Label == \"B\"]\n",
    "plt.plot(apples.Weight, apples.Colour, \"ro\")\n",
    "plt.plot(bananas.Weight, bananas.Colour, \"y+\")\n",
    "plt.xlabel(\"Weight -- in grams\")\n",
    "plt.ylabel(\"Colour -- r-o-y-g-b-p\")\n",
    "plt.legend([\"Apples\", \"Bananas\"])\n",
    "plt.show()"
   ]
  },
  {
   "cell_type": "code",
   "execution_count": 4,
   "metadata": {
    "colab": {
     "autoexec": {
      "startup": false,
      "wait_interval": 0
     }
    },
    "colab_type": "code",
    "id": "KmYbuwxfb5mo"
   },
   "outputs": [
    {
     "data": {
      "image/png": "[encoded data removed]",
      "text/plain": [
       "<Figure size 432x288 with 1 Axes>"
      ]
     },
     "metadata": {
      "needs_background": "light"
     },
     "output_type": "display_data"
    }
   ],
   "source": [
    "plt.plot(apples.Weight, apples.Colour, \"ro\")\n",
    "plt.plot(bananas.Weight, bananas.Colour, \"y+\")\n",
    "plt.xlabel(\"Weight -- in grams\")\n",
    "plt.ylabel(\"Colour -- r-o-y-g-b-p\")\n",
    "plt.legend([\"Apples\", \"Bananas\"])\n",
    "plt.plot([373], [1], \"ko\")\n",
    "plt.show()\n"
   ]
  },
  {
   "cell_type": "code",
   "execution_count": 5,
   "metadata": {
    "colab": {
     "autoexec": {
      "startup": false,
      "wait_interval": 0
     }
    },
    "colab_type": "code",
    "id": "CY4PcDXCb5mr"
   },
   "outputs": [],
   "source": [
    "import math\n",
    "def dist(a, b):\n",
    "    sqSum = 0\n",
    "    for i in range(len(a)):\n",
    "        sqSum += (a[i] - b[i]) ** 2\n",
    "    return math.sqrt(sqSum)"
   ]
  },
  {
   "cell_type": "code",
   "execution_count": 7,
   "metadata": {},
   "outputs": [],
   "source": [
    "def kNN(k, train, given):\n",
    "    distances = []\n",
    "    for t in train.values:              \n",
    "        # loop over all training samples\n",
    "        distances.append((dist(t[:2], given), t[2])) \n",
    "        # compute and store distances with respect to each training sample\n",
    "    distances.sort()            \n",
    "    return distances[:k]    # return first k samples = nearest  k distances to the given sample"
   ]
  },
  {
   "cell_type": "code",
   "execution_count": 8,
   "metadata": {
    "colab": {
     "autoexec": {
      "startup": false,
      "wait_interval": 0
     }
    },
    "colab_type": "code",
    "id": "92apL7kCb5mx"
   },
   "outputs": [
    {
     "name": "stdout",
     "output_type": "stream",
     "text": [
      "[(19.0, 'A'), (26.0, 'A'), (29.068883707497267, 'B'), (30.0, 'A'), (31.064449134018133, 'A')]\n",
      "[(2.8284271247461903, 'A'), (3.0, 'A'), (3.0, 'A'), (3.1622776601683795, 'A'), (5.0, 'A')]\n"
     ]
    }
   ],
   "source": [
    "print(kNN(5, train, (340, 1)))\n",
    "print(kNN(5, train, (373, 1)))"
   ]
  },
  {
   "cell_type": "code",
   "execution_count": 9,
   "metadata": {
    "colab": {
     "autoexec": {
      "startup": false,
      "wait_interval": 0
     }
    },
    "colab_type": "code",
    "id": "ltLUvtbab5m3"
   },
   "outputs": [
    {
     "name": "stdout",
     "output_type": "stream",
     "text": [
      "('A', 4)\n",
      "('A', 5)\n"
     ]
    }
   ],
   "source": [
    "import collections\n",
    "def kNNmax(k, train, given):\n",
    "    tally = collections.Counter()\n",
    "    for nn in kNN(k, train, given):\n",
    "        tally.update(nn[-1])\n",
    "    return tally.most_common(1)[0]\n",
    "print(kNNmax(5, train, (340, 1)))\n",
    "print(kNNmax(7, train, (340, 1)))"
   ]
  },
  {
   "cell_type": "code",
   "execution_count": 11,
   "metadata": {
    "colab": {
     "autoexec": {
      "startup": false,
      "wait_interval": 0
     }
    },
    "colab_type": "code",
    "id": "vEJBKlHQb5m8"
   },
   "outputs": [
    {
     "name": "stdout",
     "output_type": "stream",
     "text": [
      "[318.1   3. ] B ['B']\n",
      "[293.8   3. ] B ['B']\n",
      "[277.3   2. ] B ['B']\n",
      "[324.2   4. ] B ['B']\n",
      "[327.   2.] B ['B']\n",
      "[281.5   3. ] B ['B']\n",
      "[386.8   1. ] A ['A']\n",
      "[377.8   2. ] A ['A']\n",
      "[401.1   1. ] A ['A']\n",
      "[399.5   1. ] A ['A']\n",
      "[387.3   1. ] A ['A']\n",
      "[361.9   2. ] A ['A']\n",
      "[293.6   3. ] B ['B']\n",
      "[309.1   3. ] B ['B']\n",
      "[276.2   3. ] B ['B']\n",
      "[303.3   3. ] B ['B']\n",
      "[274.6   3. ] B ['B']\n",
      "[327.2   3. ] B ['B']\n",
      "[274.   3.] B ['B']\n",
      "[269.2   3. ] B ['B']\n",
      "[265.1   3. ] B ['B']\n",
      "[300.7   3. ] B ['B']\n",
      "[282.1   3. ] B ['B']\n",
      "[274.6   3. ] B ['B']\n",
      "[357.2   4. ] A ['A']\n",
      "[405.7   4. ] A ['A']\n",
      "[377.8   4. ] A ['A']\n",
      "[401.7   4. ] A ['A']\n",
      "[342.2   4. ] A ['A']\n",
      "[397.4   4. ] A ['A']\n"
     ]
    }
   ],
   "source": [
    "testData1 = pd.read_csv('01-test1.csv').values\n",
    "test1labels = pd.read_csv('01-test1-labels.csv').values\n",
    "for t,t1 in zip(testData1,test1labels):\n",
    "    print(t, kNNmax(1, train, t)[0], t1)\n",
    "    \n"
   ]
  },
  {
   "cell_type": "code",
   "execution_count": 12,
   "metadata": {
    "colab": {
     "autoexec": {
      "startup": false,
      "wait_interval": 0
     }
    },
    "colab_type": "code",
    "id": "xTNJDC_sb5nA"
   },
   "outputs": [
    {
     "name": "stdout",
     "output_type": "stream",
     "text": [
      "30 are correct\n"
     ]
    }
   ],
   "source": [
    "testData = pd.read_csv('01-test1.csv').values\n",
    "testResults = pd.read_csv('01-test1-labels.csv').values.flatten()\n",
    "results = []\n",
    "    \n",
    "for i, t in enumerate(testData):\n",
    "    results.append(kNNmax(3, train, t)[0] == testResults[i])\n",
    "\n",
    "print(results.count(True), \"are correct\")"
   ]
  },
  {
   "cell_type": "code",
   "execution_count": 13,
   "metadata": {
    "colab": {
     "autoexec": {
      "startup": false,
      "wait_interval": 0
     }
    },
    "colab_type": "code",
    "id": "CaMWRwINb5nC"
   },
   "outputs": [
    {
     "data": {
      "text/plain": [
       "30"
      ]
     },
     "execution_count": 13,
     "metadata": {},
     "output_type": "execute_result"
    }
   ],
   "source": [
    "len(testData)"
   ]
  },
  {
   "cell_type": "markdown",
   "metadata": {
    "colab_type": "text",
    "id": "oQaU8mndb5nI"
   },
   "source": [
    "**Exercise 1** :: Find the accuracy of your prediction -- percentage of the samples that are correctly predicted."
   ]
  },
  {
   "cell_type": "code",
   "execution_count": 14,
   "metadata": {
    "colab": {
     "autoexec": {
      "startup": false,
      "wait_interval": 0
     }
    },
    "colab_type": "code",
    "id": "KTnyuT-ib5nI"
   },
   "outputs": [
    {
     "name": "stdout",
     "output_type": "stream",
     "text": [
      "Accuracy is  100.0 %\n"
     ]
    }
   ],
   "source": [
    "print(\"Accuracy is \",results.count(True)/len(testData) * 100 , \"%\")"
   ]
  },
  {
   "cell_type": "markdown",
   "metadata": {
    "colab_type": "text",
    "id": "1oCY4vtIb5nK"
   },
   "source": [
    "**Exercise 2** :: Predict the labels for the larger file \"01-test2.csv\" that has 72 data points\n"
   ]
  },
  {
   "cell_type": "code",
   "execution_count": 16,
   "metadata": {
    "colab": {
     "autoexec": {
      "startup": false,
      "wait_interval": 0
     }
    },
    "colab_type": "code",
    "id": "Pv0EDjZEb5nK"
   },
   "outputs": [
    {
     "name": "stdout",
     "output_type": "stream",
     "text": [
      "[319.5   3. ] B\n",
      "[316.4   3. ] B\n",
      "[298.6   3. ] B\n",
      "[315.1   2. ] B\n",
      "[324.   3.] B\n",
      "[292.2   3. ] B\n",
      "[358.2   2. ] A\n",
      "[413.6   1. ] A\n",
      "[367.1   1. ] A\n",
      "[363.2   1. ] A\n",
      "[418.5   1. ] A\n",
      "[360.8   1. ] A\n",
      "[362.5   4. ] A\n",
      "[363.   4.] A\n",
      "[392.8   4. ] A\n",
      "[369.6   4. ] A\n",
      "[403.8   4. ] A\n",
      "[342.6   4. ] A\n",
      "[287.4   4. ] B\n",
      "[294.   4.] B\n",
      "[276.6   4. ] B\n",
      "[274.   4.] B\n",
      "[283.1   4. ] B\n",
      "[321.1   4. ] B\n",
      "[313.2   3. ] B\n",
      "[292.3   2. ] B\n",
      "[312.9   3. ] B\n",
      "[315.2   3. ] B\n",
      "[279.1   3. ] B\n",
      "[316.4   3. ] B\n",
      "[344.2   1. ] A\n",
      "[359.   1.] A\n",
      "[337.5   1. ] A\n",
      "[380.7   1. ] A\n",
      "[382.6   1. ] A\n",
      "[376.6   1. ] A\n",
      "[360.5   1. ] A\n",
      "[374.6   2. ] A\n",
      "[369.9   1. ] A\n",
      "[387.8   1. ] A\n",
      "[369.2   1. ] A\n",
      "[392.4   1. ] A\n",
      "[280.2   3. ] B\n",
      "[316.4   3. ] B\n",
      "[306.5   3. ] B\n",
      "[295.2   3. ] B\n",
      "[300.8   3. ] B\n",
      "[321.5   3. ] B\n",
      "[315.1   3. ] B\n",
      "[298.5   4. ] B\n",
      "[309.   2.] B\n",
      "[304.9   3. ] B\n",
      "[297.7   3. ] B\n",
      "[330.5   2. ] B\n",
      "[375.1   4. ] A\n",
      "[395.9   4. ] A\n",
      "[362.6   4. ] A\n",
      "[393.4   4. ] A\n",
      "[373.4   4. ] A\n",
      "[400.1   3. ] A\n",
      "[315.3   3. ] B\n",
      "[309.   3.] B\n",
      "[297.9   3. ] B\n",
      "[311.5   3. ] B\n",
      "[301.7   3. ] B\n",
      "[331.9   3. ] B\n",
      "[386.4   3. ] A\n",
      "[377.5   3. ] A\n",
      "[384.1   3. ] A\n",
      "[392.   3.] A\n",
      "[376.2   3. ] A\n",
      "[369.8   3. ] A\n"
     ]
    }
   ],
   "source": [
    "testData2 = pd.read_csv('01-test2.csv').values\n",
    "for t in testData2:\n",
    "    print(t,kNNmax(3,train,t)[0])\n"
   ]
  },
  {
   "cell_type": "markdown",
   "metadata": {
    "colab_type": "text",
    "id": "VVQ59mGUb5nM"
   },
   "source": [
    "**Exercise 3** :: Find the accuracy of the prediction by comparing with \"01-test2-labelled.csv\" "
   ]
  },
  {
   "cell_type": "code",
   "execution_count": 17,
   "metadata": {
    "colab": {
     "autoexec": {
      "startup": false,
      "wait_interval": 0
     }
    },
    "colab_type": "code",
    "id": "wskKxFCzb5nM"
   },
   "outputs": [
    {
     "name": "stdout",
     "output_type": "stream",
     "text": [
      "72  are correct\n",
      "Accuracy is  100.0  %\n"
     ]
    }
   ],
   "source": [
    "testResults2 = pd.read_csv('01-test2-labels.csv').values.flatten()\n",
    "results2 = []\n",
    "for i,t in enumerate(testData2):\n",
    "    results2.append(kNNmax(3,train,t)[0] == testResults2[i])\n",
    "print(results2.count(True), \" are correct\")\n",
    "print(\"Accuracy is \",results2.count(True)/len(testData2)*100, \" %\")"
   ]
  },
  {
   "cell_type": "markdown",
   "metadata": {
    "colab_type": "text",
    "id": "RFzEZUuhb5nO"
   },
   "source": [
    "**Exercise 4** :: Repeat the above experiment with $k = 5$ and $k = 7$. Explain which $k$ is better and why?\n",
    "\n",
    "**Exercise 5** :: Repeat the above experiment with $k = 17$. What do you think is happening?\n"
   ]
  },
  {
   "cell_type": "code",
   "execution_count": 18,
   "metadata": {
    "colab": {
     "autoexec": {
      "startup": false,
      "wait_interval": 0
     }
    },
    "colab_type": "code",
    "id": "swJQzsRQb5nO"
   },
   "outputs": [
    {
     "name": "stdout",
     "output_type": "stream",
     "text": [
      "72  are correct\n",
      "Accuracy is  100.0  %\n",
      "72  are correct\n",
      "Accuracy is  100.0  %\n",
      "36  are correct\n",
      "Accuracy is  50.0  %\n"
     ]
    }
   ],
   "source": [
    "def accuracy(train,test,testResults,k):\n",
    "    results = []\n",
    "    for i,t in enumerate(test):\n",
    "        results.append(kNNmax(k,train,t)[0] == testResults[i])\n",
    "        \n",
    "    print(results.count(True), \" are correct\")\n",
    "    print(\"Accuracy is \",results.count(True)/len(test)*100, \" %\")\n",
    "    \n",
    "    \n",
    "accuracy(train,testData2,testResults2,5)\n",
    "accuracy(train,testData2,testResults2,7)\n",
    "accuracy(train,testData2,testResults2,17)"
   ]
  },
  {
   "cell_type": "markdown",
   "metadata": {
    "colab_type": "text",
    "id": "prTw01Cgb5nQ"
   },
   "source": [
    "**Exercise 6** :: If the weights are in Kgs, that is divide all of the data in weights column by 1000, what is the accuracy for $k = 3$\n"
   ]
  },
  {
   "cell_type": "code",
   "execution_count": 20,
   "metadata": {
    "colab": {
     "autoexec": {
      "startup": false,
      "wait_interval": 0
     }
    },
    "colab_type": "code",
    "id": "SyjUQbKqb5nQ"
   },
   "outputs": [],
   "source": [
    "TraininKG = pd.read_csv(\"01-train.csv\")\n",
    "TraininKG['Weight'] = TraininKG['Weight']/1000\n",
    "TestData2inKG = pd.read_csv('01-test2.csv')\n",
    "TestData2inKG['Weight'] = TestData2inKG['Weight']/1000\n",
    "TestData2inKG = TestData2inKG.values"
   ]
  },
  {
   "cell_type": "code",
   "execution_count": 21,
   "metadata": {
    "colab": {
     "autoexec": {
      "startup": false,
      "wait_interval": 0
     }
    },
    "colab_type": "code",
    "id": "2augud9Xb5na"
   },
   "outputs": [
    {
     "name": "stdout",
     "output_type": "stream",
     "text": [
      "58  are correct\n",
      "Accuracy is  80.55555555555556  %\n"
     ]
    }
   ],
   "source": [
    "accuracy(TraininKG,TestData2inKG,testResults2,3)"
   ]
  },
  {
   "cell_type": "code",
   "execution_count": 23,
   "metadata": {
    "colab": {
     "autoexec": {
      "startup": false,
      "wait_interval": 0
     }
    },
    "colab_type": "code",
    "id": "ec07FEC9b5nc"
   },
   "outputs": [],
   "source": [
    "### Calculation of weight can be done using pandas converts function\n",
    "\n",
    "def convert_weight(weight):\n",
    "    return int(weight)/1000\n",
    "\n",
    "def convert_weights(weight):\n",
    "    return float(weight)/1000\n",
    "\n",
    "Traininkgs = pd.read_csv(\"01-train.csv\", converters={\"Weight\":convert_weight})\n",
    "Testdata2inkgs = pd.read_csv(\"01-test2.csv\", converters={\"Weight\":convert_weights})"
   ]
  },
  {
   "cell_type": "markdown",
   "metadata": {
    "colab_type": "text",
    "id": "YLYs_S4ub5nd"
   },
   "source": [
    "**Exercise 7** :: Modify the distance function to ignore the colour feature. Calculate the accuracy on \"01-test1.csv\"\n"
   ]
  },
  {
   "cell_type": "code",
   "execution_count": 24,
   "metadata": {
    "colab": {
     "autoexec": {
      "startup": false,
      "wait_interval": 0
     }
    },
    "colab_type": "code",
    "id": "Yf8y2nlZb5ne"
   },
   "outputs": [],
   "source": [
    "import math\n",
    "def dist(a, b):\n",
    "    sqSum = 0\n",
    "    for i in range(len(a)-1):\n",
    "        sqSum += (a[i] - b[i]) ** 2\n",
    "    return math.sqrt(sqSum)"
   ]
  },
  {
   "cell_type": "code",
   "execution_count": 25,
   "metadata": {
    "colab": {
     "autoexec": {
      "startup": false,
      "wait_interval": 0
     }
    },
    "colab_type": "code",
    "id": "LBRUj2HNb5nf"
   },
   "outputs": [
    {
     "name": "stdout",
     "output_type": "stream",
     "text": [
      "30 are correct\n"
     ]
    }
   ],
   "source": [
    "testData = pd.read_csv('01-test1.csv').values\n",
    "testResults = pd.read_csv('01-test1-labels.csv').values.flatten()\n",
    "results = []\n",
    "    \n",
    "for i, t in enumerate(testData):\n",
    "    results.append(kNNmax(3, train, t)[0] == testResults[i])\n",
    "\n",
    "print(results.count(True), \"are correct\")"
   ]
  },
  {
   "cell_type": "code",
   "execution_count": 26,
   "metadata": {
    "colab": {
     "autoexec": {
      "startup": false,
      "wait_interval": 0
     }
    },
    "colab_type": "code",
    "id": "7LaqlaFIb5ng"
   },
   "outputs": [
    {
     "data": {
      "text/plain": [
       "100.0"
      ]
     },
     "execution_count": 26,
     "metadata": {},
     "output_type": "execute_result"
    }
   ],
   "source": [
    "results.count(True)/len(testData) * 100"
   ]
  },
  {
   "cell_type": "markdown",
   "metadata": {
    "colab_type": "text",
    "id": "ypNleRsbb5ni"
   },
   "source": [
    "**Exercise 8** :: If we used the square of the Euclidean distance, for the distance function does it affect the accuracy?"
   ]
  },
  {
   "cell_type": "code",
   "execution_count": 27,
   "metadata": {
    "colab": {
     "autoexec": {
      "startup": false,
      "wait_interval": 0
     }
    },
    "colab_type": "code",
    "id": "xVYTdareb5nj"
   },
   "outputs": [],
   "source": [
    "import math\n",
    "def dist(a, b):\n",
    "    sqSum = 0\n",
    "    for i in range(len(a)-1):\n",
    "        sqSum += (a[i] - b[i]) ** 2\n",
    "    return sqSum"
   ]
  },
  {
   "cell_type": "code",
   "execution_count": 29,
   "metadata": {
    "colab": {
     "autoexec": {
      "startup": false,
      "wait_interval": 0
     }
    },
    "colab_type": "code",
    "id": "CwJkFlGtb5nl"
   },
   "outputs": [
    {
     "name": "stdout",
     "output_type": "stream",
     "text": [
      "30 are correct\n"
     ]
    }
   ],
   "source": [
    "testData = pd.read_csv('01-test1.csv').values\n",
    "testResults = pd.read_csv('01-test1-labels.csv').values.flatten()\n",
    "results = []\n",
    "    \n",
    "for i, t in enumerate(testData):\n",
    "    results.append(kNNmax(3, train, t)[0] == testResults[i])\n",
    "\n",
    "print(results.count(True), \"are correct\")"
   ]
  },
  {
   "cell_type": "code",
   "execution_count": 30,
   "metadata": {
    "colab": {
     "autoexec": {
      "startup": false,
      "wait_interval": 0
     }
    },
    "colab_type": "code",
    "id": "lMFwS-v1b5np"
   },
   "outputs": [
    {
     "data": {
      "text/plain": [
       "100.0"
      ]
     },
     "execution_count": 30,
     "metadata": {},
     "output_type": "execute_result"
    }
   ],
   "source": [
    "results.count(True)/len(testData) * 100"
   ]
  },
  {
   "cell_type": "markdown",
   "metadata": {
    "colab_type": "text",
    "id": "BOlRLLKCb5nt"
   },
   "source": [
    "**Exercise 9** :: If we use the sum of the absolute differences, as the distance metric instead of the Euclidean, how does that affect the accuracy?\n",
    "\n",
    "**Result:** Slight change in Accuracy if color feature is included in dist function"
   ]
  }
 ],
 "metadata": {
  "colab": {
   "default_view": {},
   "name": "Experiment1-Lab1.ipynb",
   "provenance": [],
   "version": "0.3.2",
   "views": {}
  },
  "kernelspec": {
   "display_name": "Python 3",
   "language": "python",
   "name": "python3"
  },
  "language_info": {
   "codemirror_mode": {
    "name": "ipython",
    "version": 3
   },
   "file_extension": ".py",
   "mimetype": "text/x-python",
   "name": "python",
   "nbconvert_exporter": "python",
   "pygments_lexer": "ipython3",
   "version": "3.7.4"
  }
 },
 "nbformat": 4,
 "nbformat_minor": 1
}
