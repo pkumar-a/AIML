{
 "cells": [
  {
   "cell_type": "code",
   "execution_count": 1,
   "metadata": {
    "colab": {},
    "colab_type": "code",
    "id": "0TaICL_cI8yX"
   },
   "outputs": [],
   "source": [
    "import pandas as pd\n",
    "import numpy as np\n",
    "import matplotlib.pyplot as plt "
   ]
  },
  {
   "cell_type": "code",
   "execution_count": 3,
   "metadata": {
    "colab": {
     "base_uri": "https://localhost:8080/",
     "height": 648
    },
    "colab_type": "code",
    "executionInfo": {
     "elapsed": 3282,
     "status": "ok",
     "timestamp": 1569243347945,
     "user": {
      "displayName": "AIML Support",
      "photoUrl": "",
      "userId": "10944637975474083227"
     },
     "user_tz": -330
    },
    "id": "jtDSq-4WI8ye",
    "outputId": "66cc6e57-d96e-41ac-c738-c0eb9e3b50dc"
   },
   "outputs": [
    {
     "data": {
      "text/html": [
       "<div>\n",
       "<style scoped>\n",
       "    .dataframe tbody tr th:only-of-type {\n",
       "        vertical-align: middle;\n",
       "    }\n",
       "\n",
       "    .dataframe tbody tr th {\n",
       "        vertical-align: top;\n",
       "    }\n",
       "\n",
       "    .dataframe thead th {\n",
       "        text-align: right;\n",
       "    }\n",
       "</style>\n",
       "<table border=\"1\" class=\"dataframe\">\n",
       "  <thead>\n",
       "    <tr style=\"text-align: right;\">\n",
       "      <th></th>\n",
       "      <th>Hours</th>\n",
       "      <th>Pass</th>\n",
       "    </tr>\n",
       "  </thead>\n",
       "  <tbody>\n",
       "    <tr>\n",
       "      <td>0</td>\n",
       "      <td>0.50</td>\n",
       "      <td>0</td>\n",
       "    </tr>\n",
       "    <tr>\n",
       "      <td>1</td>\n",
       "      <td>0.75</td>\n",
       "      <td>0</td>\n",
       "    </tr>\n",
       "    <tr>\n",
       "      <td>2</td>\n",
       "      <td>1.00</td>\n",
       "      <td>0</td>\n",
       "    </tr>\n",
       "    <tr>\n",
       "      <td>3</td>\n",
       "      <td>1.25</td>\n",
       "      <td>0</td>\n",
       "    </tr>\n",
       "    <tr>\n",
       "      <td>4</td>\n",
       "      <td>1.50</td>\n",
       "      <td>0</td>\n",
       "    </tr>\n",
       "    <tr>\n",
       "      <td>5</td>\n",
       "      <td>1.75</td>\n",
       "      <td>0</td>\n",
       "    </tr>\n",
       "    <tr>\n",
       "      <td>6</td>\n",
       "      <td>1.75</td>\n",
       "      <td>1</td>\n",
       "    </tr>\n",
       "    <tr>\n",
       "      <td>7</td>\n",
       "      <td>2.00</td>\n",
       "      <td>0</td>\n",
       "    </tr>\n",
       "    <tr>\n",
       "      <td>8</td>\n",
       "      <td>2.25</td>\n",
       "      <td>1</td>\n",
       "    </tr>\n",
       "    <tr>\n",
       "      <td>9</td>\n",
       "      <td>2.50</td>\n",
       "      <td>0</td>\n",
       "    </tr>\n",
       "    <tr>\n",
       "      <td>10</td>\n",
       "      <td>2.75</td>\n",
       "      <td>1</td>\n",
       "    </tr>\n",
       "    <tr>\n",
       "      <td>11</td>\n",
       "      <td>3.00</td>\n",
       "      <td>0</td>\n",
       "    </tr>\n",
       "    <tr>\n",
       "      <td>12</td>\n",
       "      <td>3.25</td>\n",
       "      <td>1</td>\n",
       "    </tr>\n",
       "    <tr>\n",
       "      <td>13</td>\n",
       "      <td>3.50</td>\n",
       "      <td>0</td>\n",
       "    </tr>\n",
       "    <tr>\n",
       "      <td>14</td>\n",
       "      <td>4.00</td>\n",
       "      <td>1</td>\n",
       "    </tr>\n",
       "    <tr>\n",
       "      <td>15</td>\n",
       "      <td>4.25</td>\n",
       "      <td>1</td>\n",
       "    </tr>\n",
       "    <tr>\n",
       "      <td>16</td>\n",
       "      <td>4.50</td>\n",
       "      <td>1</td>\n",
       "    </tr>\n",
       "    <tr>\n",
       "      <td>17</td>\n",
       "      <td>4.75</td>\n",
       "      <td>1</td>\n",
       "    </tr>\n",
       "    <tr>\n",
       "      <td>18</td>\n",
       "      <td>5.00</td>\n",
       "      <td>1</td>\n",
       "    </tr>\n",
       "    <tr>\n",
       "      <td>19</td>\n",
       "      <td>5.50</td>\n",
       "      <td>1</td>\n",
       "    </tr>\n",
       "  </tbody>\n",
       "</table>\n",
       "</div>"
      ],
      "text/plain": [
       "    Hours  Pass\n",
       "0    0.50     0\n",
       "1    0.75     0\n",
       "2    1.00     0\n",
       "3    1.25     0\n",
       "4    1.50     0\n",
       "5    1.75     0\n",
       "6    1.75     1\n",
       "7    2.00     0\n",
       "8    2.25     1\n",
       "9    2.50     0\n",
       "10   2.75     1\n",
       "11   3.00     0\n",
       "12   3.25     1\n",
       "13   3.50     0\n",
       "14   4.00     1\n",
       "15   4.25     1\n",
       "16   4.50     1\n",
       "17   4.75     1\n",
       "18   5.00     1\n",
       "19   5.50     1"
      ]
     },
     "execution_count": 3,
     "metadata": {},
     "output_type": "execute_result"
    }
   ],
   "source": [
    "import pandas as pd\n",
    "data = pd.read_csv('Hours.csv', header=0,  names=['Hours', 'Pass'])\n",
    "data"
   ]
  },
  {
   "cell_type": "code",
   "execution_count": 4,
   "metadata": {
    "colab": {
     "base_uri": "https://localhost:8080/",
     "height": 72
    },
    "colab_type": "code",
    "executionInfo": {
     "elapsed": 3273,
     "status": "ok",
     "timestamp": 1569243347948,
     "user": {
      "displayName": "AIML Support",
      "photoUrl": "",
      "userId": "10944637975474083227"
     },
     "user_tz": -330
    },
    "id": "ZosBg2PxI8yj",
    "outputId": "c8edb684-58cd-4afa-95ff-8de3a0800dfa"
   },
   "outputs": [
    {
     "name": "stdout",
     "output_type": "stream",
     "text": [
      "20 [0.5  0.75 1.   1.25 1.5  1.75 1.75 2.   2.25 2.5  2.75 3.   3.25 3.5\n",
      " 4.   4.25 4.5  4.75 5.   5.5 ]\n",
      "20 [0 0 0 0 0 0 1 0 1 0 1 0 1 0 1 1 1 1 1 1]\n"
     ]
    }
   ],
   "source": [
    "x = data['Hours'].values\n",
    "y = data['Pass'].values\n",
    "print(len(x), x)\n",
    "print(len(y), y)"
   ]
  },
  {
   "cell_type": "code",
   "execution_count": 5,
   "metadata": {
    "colab": {},
    "colab_type": "code",
    "id": "r_0NdcORI8yo"
   },
   "outputs": [],
   "source": [
    "def logf(a, b, x):\n",
    "    return 1.0 / (1.0 + np.exp(-a * x - b))\n",
    "\n",
    "def dlogf(a, b, x):\n",
    "    return logf(a, b, x) * (1 - logf(a, b, x))\n",
    "##\n",
    "## The derivative of the logistic function is f * (1 - f)\n",
    "##\n",
    "def one_step(x, y, a, b, eta):\n",
    "    ycalc = logf(a, b, x)\n",
    "    delta_a = sum((y - ycalc) * ycalc * (1 - ycalc) * x)\n",
    "    delta_b = sum((y - ycalc) * ycalc * (1 - ycalc))\n",
    "    a = a + delta_a * eta\n",
    "    b = b + delta_b * eta\n",
    "    error = sum((y - ycalc)**2)\n",
    "    return a, b, error"
   ]
  },
  {
   "cell_type": "code",
   "execution_count": 6,
   "metadata": {
    "colab": {
     "base_uri": "https://localhost:8080/",
     "height": 381
    },
    "colab_type": "code",
    "executionInfo": {
     "elapsed": 7378,
     "status": "ok",
     "timestamp": 1569243352074,
     "user": {
      "displayName": "AIML Support",
      "photoUrl": "",
      "userId": "10944637975474083227"
     },
     "user_tz": -330
    },
    "id": "baST48L2I8ys",
    "outputId": "41bd7efa-0fb8-41ae-8450-f99a7155e1ab"
   },
   "outputs": [
    {
     "name": "stdout",
     "output_type": "stream",
     "text": [
      "0.9992450475046264 0.9993890327191156 8.523889507182833\n",
      "0.6179139520552147 -1.4979844156507485 3.084957105503622\n",
      "0.8575843879108347 -2.25139110880418 2.797870875378567\n",
      "0.9728737260919393 -2.6067051255322724 2.7325520545161086\n",
      "1.0396398691127058 -2.811092110862796 2.71003370568342\n",
      "1.0821735679334652 -2.9408902089025877 2.700524220460017\n",
      "1.1108900673116497 -3.0283736506111025 2.6959924159334374\n",
      "1.131062584310428 -3.0897654381964674 2.6936492059306687\n",
      "1.1456553293443181 -3.134146964141185 2.692362841512513\n",
      "1.1564575274239577 -3.166985604175102 2.6916228693982727\n",
      "1.1646060702708207 -3.1917494563504847 2.6911806463872994\n",
      "1.1708518836621586 -3.210726553492437 2.690907701444394\n",
      "1.1757062393717048 -3.225473431081711 2.6907344557232133\n",
      "1.1795258843356653 -3.2370755338937856 2.6906217334216556\n",
      "1.1825648693218924 -3.246305498436247 2.690546738535855\n",
      "1.185007275774927 -3.253722977690618 2.690495822301691\n",
      "1.1869885082922136 -3.2597395285544297 2.6904606043094135\n",
      "1.1886094977629307 -3.2646618644507446 2.6904358215739017\n",
      "1.189946378196294 -3.2687213078697215 2.6904181006298367\n",
      "1.1910572009654397 -3.2720942171257867 2.690405238327665\n"
     ]
    }
   ],
   "source": [
    "import numpy as np\n",
    "a, b = 1, 1\n",
    "eta = 0.001\n",
    "for times in range(100000):\n",
    "    a, b, error = one_step(x, y, a, b, eta)\n",
    "    if times % 1000 == 0:\n",
    "        eta = max(0.00001, eta * 0.99)\n",
    "        if times % 5000 == 0:\n",
    "            print(a, b, error)"
   ]
  },
  {
   "cell_type": "code",
   "execution_count": 7,
   "metadata": {
    "colab": {
     "base_uri": "https://localhost:8080/",
     "height": 295
    },
    "colab_type": "code",
    "executionInfo": {
     "elapsed": 7936,
     "status": "ok",
     "timestamp": 1569243352641,
     "user": {
      "displayName": "AIML Support",
      "photoUrl": "",
      "userId": "10944637975474083227"
     },
     "user_tz": -330
    },
    "id": "qGDltrchI8yy",
    "outputId": "0ffeea68-7d2f-4263-9414-f50826bcf8f4"
   },
   "outputs": [
    {
     "data": {
      "image/png": "[encoded data removed]",
      "text/plain": [
       "<Figure size 432x288 with 1 Axes>"
      ]
     },
     "metadata": {
      "needs_background": "light"
     },
     "output_type": "display_data"
    }
   ],
   "source": [
    "import matplotlib.pyplot as plt\n",
    "plt.plot(data.Hours, data.Pass, \"o\")\n",
    "plt.xlabel(\"Hours Studying\")\n",
    "plt.ylabel(\"Probability of passing the exam\")\n",
    "plt.title(\"Probability of passing the exam vs Hours of Studying \")\n",
    "\n",
    "ycalc = logf(a, b, x)\n",
    "plt.plot(x, ycalc)\n",
    "plt.plot(x, y, \"bo\")\n",
    "plt.grid(True)\n",
    "plt.show()"
   ]
  },
  {
   "cell_type": "code",
   "execution_count": 8,
   "metadata": {
    "colab": {
     "base_uri": "https://localhost:8080/",
     "height": 648
    },
    "colab_type": "code",
    "executionInfo": {
     "elapsed": 7933,
     "status": "ok",
     "timestamp": 1569243352645,
     "user": {
      "displayName": "AIML Support",
      "photoUrl": "",
      "userId": "10944637975474083227"
     },
     "user_tz": -330
    },
    "id": "Pel1OuNmI8y1",
    "outputId": "79dce6e5-97c2-4162-b196-f4facd38dbe4"
   },
   "outputs": [
    {
     "data": {
      "text/html": [
       "<div>\n",
       "<style scoped>\n",
       "    .dataframe tbody tr th:only-of-type {\n",
       "        vertical-align: middle;\n",
       "    }\n",
       "\n",
       "    .dataframe tbody tr th {\n",
       "        vertical-align: top;\n",
       "    }\n",
       "\n",
       "    .dataframe thead th {\n",
       "        text-align: right;\n",
       "    }\n",
       "</style>\n",
       "<table border=\"1\" class=\"dataframe\">\n",
       "  <thead>\n",
       "    <tr style=\"text-align: right;\">\n",
       "      <th></th>\n",
       "      <th>Hours</th>\n",
       "      <th>Pass</th>\n",
       "    </tr>\n",
       "  </thead>\n",
       "  <tbody>\n",
       "    <tr>\n",
       "      <td>0</td>\n",
       "      <td>0.50</td>\n",
       "      <td>0</td>\n",
       "    </tr>\n",
       "    <tr>\n",
       "      <td>1</td>\n",
       "      <td>0.75</td>\n",
       "      <td>0</td>\n",
       "    </tr>\n",
       "    <tr>\n",
       "      <td>2</td>\n",
       "      <td>1.00</td>\n",
       "      <td>0</td>\n",
       "    </tr>\n",
       "    <tr>\n",
       "      <td>3</td>\n",
       "      <td>1.25</td>\n",
       "      <td>0</td>\n",
       "    </tr>\n",
       "    <tr>\n",
       "      <td>4</td>\n",
       "      <td>1.50</td>\n",
       "      <td>0</td>\n",
       "    </tr>\n",
       "    <tr>\n",
       "      <td>5</td>\n",
       "      <td>1.75</td>\n",
       "      <td>0</td>\n",
       "    </tr>\n",
       "    <tr>\n",
       "      <td>6</td>\n",
       "      <td>1.75</td>\n",
       "      <td>1</td>\n",
       "    </tr>\n",
       "    <tr>\n",
       "      <td>7</td>\n",
       "      <td>2.00</td>\n",
       "      <td>0</td>\n",
       "    </tr>\n",
       "    <tr>\n",
       "      <td>8</td>\n",
       "      <td>2.25</td>\n",
       "      <td>1</td>\n",
       "    </tr>\n",
       "    <tr>\n",
       "      <td>9</td>\n",
       "      <td>2.50</td>\n",
       "      <td>0</td>\n",
       "    </tr>\n",
       "    <tr>\n",
       "      <td>10</td>\n",
       "      <td>2.75</td>\n",
       "      <td>1</td>\n",
       "    </tr>\n",
       "    <tr>\n",
       "      <td>11</td>\n",
       "      <td>3.00</td>\n",
       "      <td>0</td>\n",
       "    </tr>\n",
       "    <tr>\n",
       "      <td>12</td>\n",
       "      <td>3.25</td>\n",
       "      <td>1</td>\n",
       "    </tr>\n",
       "    <tr>\n",
       "      <td>13</td>\n",
       "      <td>3.50</td>\n",
       "      <td>0</td>\n",
       "    </tr>\n",
       "    <tr>\n",
       "      <td>14</td>\n",
       "      <td>4.00</td>\n",
       "      <td>1</td>\n",
       "    </tr>\n",
       "    <tr>\n",
       "      <td>15</td>\n",
       "      <td>4.25</td>\n",
       "      <td>1</td>\n",
       "    </tr>\n",
       "    <tr>\n",
       "      <td>16</td>\n",
       "      <td>4.50</td>\n",
       "      <td>1</td>\n",
       "    </tr>\n",
       "    <tr>\n",
       "      <td>17</td>\n",
       "      <td>4.75</td>\n",
       "      <td>1</td>\n",
       "    </tr>\n",
       "    <tr>\n",
       "      <td>18</td>\n",
       "      <td>5.00</td>\n",
       "      <td>1</td>\n",
       "    </tr>\n",
       "    <tr>\n",
       "      <td>19</td>\n",
       "      <td>5.50</td>\n",
       "      <td>1</td>\n",
       "    </tr>\n",
       "  </tbody>\n",
       "</table>\n",
       "</div>"
      ],
      "text/plain": [
       "    Hours  Pass\n",
       "0    0.50     0\n",
       "1    0.75     0\n",
       "2    1.00     0\n",
       "3    1.25     0\n",
       "4    1.50     0\n",
       "5    1.75     0\n",
       "6    1.75     1\n",
       "7    2.00     0\n",
       "8    2.25     1\n",
       "9    2.50     0\n",
       "10   2.75     1\n",
       "11   3.00     0\n",
       "12   3.25     1\n",
       "13   3.50     0\n",
       "14   4.00     1\n",
       "15   4.25     1\n",
       "16   4.50     1\n",
       "17   4.75     1\n",
       "18   5.00     1\n",
       "19   5.50     1"
      ]
     },
     "execution_count": 8,
     "metadata": {},
     "output_type": "execute_result"
    }
   ],
   "source": [
    "_"
   ]
  },
  {
   "cell_type": "code",
   "execution_count": null,
   "metadata": {},
   "outputs": [],
   "source": []
  }
 ],
 "metadata": {
  "colab": {
   "name": "Lab05-Experiment2-Part3.ipynb",
   "provenance": []
  },
  "kernelspec": {
   "display_name": "Python 3",
   "language": "python",
   "name": "python3"
  },
  "language_info": {
   "codemirror_mode": {
    "name": "ipython",
    "version": 3
   },
   "file_extension": ".py",
   "mimetype": "text/x-python",
   "name": "python",
   "nbconvert_exporter": "python",
   "pygments_lexer": "ipython3",
   "version": "3.7.4"
  }
 },
 "nbformat": 4,
 "nbformat_minor": 1
}
