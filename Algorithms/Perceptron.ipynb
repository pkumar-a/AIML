{
 "cells": [
  {
   "cell_type": "code",
   "execution_count": 1,
   "metadata": {
    "colab": {
     "autoexec": {
      "startup": false,
      "wait_interval": 0
     }
    },
    "colab_type": "code",
    "id": "nYqOCJgd1MBZ",
    "outputId": "7a280300-014d-42c2-a358-e34b8fbcbe38"
   },
   "outputs": [
    {
     "name": "stdout",
     "output_type": "stream",
     "text": [
      "(1797, 64) (1797,)\n"
     ]
    }
   ],
   "source": [
    "import numpy as np\n",
    "from scipy import ndimage\n",
    "from matplotlib import pyplot as plt\n",
    "from sklearn import manifold, datasets\n",
    "from sklearn.model_selection import train_test_split\n",
    "from sklearn.preprocessing import StandardScaler\n",
    "from sklearn.linear_model import Perceptron\n",
    "from sklearn.metrics import accuracy_score\n",
    "\n",
    "#Load MNIST dataset \n",
    "digits = datasets.load_digits(n_class=10)\n",
    "# Create our X and y data\n",
    "X = digits.data\n",
    "Y = digits.target\n",
    "print(X.shape, Y.shape)\n",
    "num_examples = X.shape[0]      ## training set size\n",
    "nn_input_dim = X.shape[1]      ## input layer dimensionality\n",
    "nn_output_dim = len(np.unique(Y))       ## output layer dimensionality\n",
    "\n",
    "params = {\n",
    "    \"lr\":1e-5,        ## learning_rate\n",
    "    \"max_iter\":1000,\n",
    "    \"h_dimn\":40,     ## hidden_layer_size\n",
    "}"
   ]
  },
  {
   "cell_type": "code",
   "execution_count": 2,
   "metadata": {
    "colab": {
     "autoexec": {
      "startup": false,
      "wait_interval": 0
     }
    },
    "colab_type": "code",
    "id": "RU3dXQGJ1MBg"
   },
   "outputs": [],
   "source": [
    "def build_model():\n",
    "    hdim = params[\"h_dimn\"]\n",
    "    # Initialize the parameters to random values.\n",
    "    np.random.seed(0)\n",
    "    W1 = np.random.randn(nn_input_dim, hdim) / np.sqrt(nn_input_dim)\n",
    "    b1 = np.zeros((1, hdim))\n",
    "    W2 = np.random.randn(hdim, nn_output_dim) / np.sqrt(hdim)\n",
    "    b2 = np.zeros((1, nn_output_dim))\n",
    "\n",
    "    # This is what we return at the end\n",
    "    model = { 'W1': W1, 'b1': b1, 'W2': W2, 'b2': b2}\n",
    "    return model\n",
    "\n",
    "def softmax(x):\n",
    "    exp_scores = np.exp(x)\n",
    "    probs = exp_scores / np.sum(exp_scores, axis=1, keepdims=True)\n",
    "    return probs\n",
    "\n",
    "def feedforward(model, x):\n",
    "    W1, b1, W2, b2 = model['W1'], model['b1'], model['W2'], model['b2']\n",
    "    z1 = x.dot(W1) + b1\n",
    "    a1 = np.tanh(z1)\n",
    "    z2 = a1.dot(W2) + b2\n",
    "    probs = softmax(z2)\n",
    "    return a1, probs\n",
    "\n",
    "def backpropagation(model, x, y, a1, probs):\n",
    "    W1, b1, W2, b2 = model['W1'], model['b1'], model['W2'], model['b2']\n",
    "    \n",
    "    delta3 = probs\n",
    "    delta3[range(y.shape[0]), y] -= 1\n",
    "    dW2 = (a1.T).dot(delta3)\n",
    "    db2 = np.sum(delta3, axis=0, keepdims=True)\n",
    "    delta2 = delta3.dot(W2.T) * (1 - np.power(a1, 2))\n",
    "    dW1 = np.dot(x.T, delta2)\n",
    "    db1 = np.sum(delta2, axis=0)\n",
    "    return dW2, db2, dW1, db1\n",
    "\n",
    "def calculate_loss(model, x, y):\n",
    "    W1, b1, W2, b2 = model['W1'], model['b1'], model['W2'], model['b2']\n",
    "    \n",
    "    # Forward propagation to calculate predictions\n",
    "    _, probs = feedforward(model, x)\n",
    "    \n",
    "    # Calculating the cross entropy loss\n",
    "    corect_logprobs = -np.log(probs[range(y.shape[0]), y])\n",
    "    data_loss = np.sum(corect_logprobs)\n",
    "    \n",
    "    return 1./y.shape[0] * data_loss\n",
    "\n",
    "def test(model, x, y):\n",
    "    W1, b1, W2, b2 = model['W1'], model['b1'], model['W2'], model['b2']\n",
    "    # Forward propagation to calculate predictions\n",
    "    _, probs = feedforward(model, x)\n",
    "    preds = np.argmax(probs, axis=1)\n",
    "    return np.count_nonzero(y==preds)/y.shape[0]\n",
    "\n",
    "def train(model, X_train, X_test, Y_train, Y_test, print_loss=True):\n",
    "    # Gradient descent. For each batch...\n",
    "    W1, b1, W2, b2 = model['W1'], model['b1'], model['W2'], model['b2']\n",
    "    for i in range(0, params[\"max_iter\"]):\n",
    "\n",
    "        # Forward propagation\n",
    "        a1, probs = feedforward(model, X_train)\n",
    "\n",
    "        # Backpropagation\n",
    "        dW2, db2, dW1, db1 = backpropagation(model, X_train, Y_train, a1, probs)\n",
    "\n",
    "        # Gradient descent parameter update\n",
    "        W1 += -params[\"lr\"] * dW1\n",
    "        b1 += -params[\"lr\"] * db1\n",
    "        W2 += -params[\"lr\"] * dW2\n",
    "        b2 += -params[\"lr\"] * db2\n",
    "        \n",
    "        # Assign new parameters to the model\n",
    "        model = { 'W1': W1, 'b1': b1, 'W2': W2, 'b2': b2}\n",
    "        if print_loss and i % 50 == 0:\n",
    "            print(\"Loss after iteration %i: %f\" %(i, calculate_loss(model, X_train, Y_train)),\n",
    "                  \", Test accuracy:\", test(model, X_test, Y_test), \"\\n\")\n",
    "    return model"
   ]
  },
  {
   "cell_type": "code",
   "execution_count": 3,
   "metadata": {
    "colab": {
     "autoexec": {
      "startup": false,
      "wait_interval": 0
     }
    },
    "colab_type": "code",
    "id": "hqAW9xhr1MBj",
    "outputId": "b96ffe89-26e4-4c06-e28b-2f2a2b887555"
   },
   "outputs": [
    {
     "name": "stdout",
     "output_type": "stream",
     "text": [
      "Loss after iteration 0: 2.492749 , Test accuracy: 0.13236929922135707 \n",
      "\n",
      "Loss after iteration 50: 1.712895 , Test accuracy: 0.45050055617352613 \n",
      "\n",
      "Loss after iteration 100: 1.311046 , Test accuracy: 0.6596218020022246 \n",
      "\n",
      "Loss after iteration 150: 1.043388 , Test accuracy: 0.7686318131256952 \n",
      "\n",
      "Loss after iteration 200: 0.858650 , Test accuracy: 0.8131256952169077 \n",
      "\n",
      "Loss after iteration 250: 0.725068 , Test accuracy: 0.8498331479421579 \n",
      "\n",
      "Loss after iteration 300: 0.625338 , Test accuracy: 0.8654060066740823 \n",
      "\n",
      "Loss after iteration 350: 0.548757 , Test accuracy: 0.882091212458287 \n",
      "\n",
      "Loss after iteration 400: 0.486890 , Test accuracy: 0.8921023359288098 \n",
      "\n",
      "Loss after iteration 450: 0.436110 , Test accuracy: 0.8987764182424917 \n",
      "\n",
      "Loss after iteration 500: 0.392825 , Test accuracy: 0.9087875417130145 \n",
      "\n",
      "Loss after iteration 550: 0.355599 , Test accuracy: 0.917686318131257 \n",
      "\n",
      "Loss after iteration 600: 0.324155 , Test accuracy: 0.9210233592880979 \n",
      "\n",
      "Loss after iteration 650: 0.297017 , Test accuracy: 0.9221357063403782 \n",
      "\n",
      "Loss after iteration 700: 0.273805 , Test accuracy: 0.9254727474972191 \n",
      "\n",
      "Loss after iteration 750: 0.253553 , Test accuracy: 0.92880978865406 \n",
      "\n",
      "Loss after iteration 800: 0.235535 , Test accuracy: 0.92880978865406 \n",
      "\n",
      "Loss after iteration 850: 0.219625 , Test accuracy: 0.9299221357063404 \n",
      "\n",
      "Loss after iteration 900: 0.205759 , Test accuracy: 0.932146829810901 \n",
      "\n",
      "Loss after iteration 950: 0.193485 , Test accuracy: 0.9354838709677419 \n",
      "\n"
     ]
    }
   ],
   "source": [
    "model = build_model()\n",
    "\n",
    "X_train, X_test, Y_train, Y_test = train_test_split(X, Y, test_size=0.5)\n",
    "\n",
    "model = train(model, X_train, X_test, Y_train, Y_test)"
   ]
  },
  {
   "cell_type": "code",
   "execution_count": 0,
   "metadata": {
    "colab": {
     "autoexec": {
      "startup": false,
      "wait_interval": 0
     }
    },
    "colab_type": "code",
    "id": "syZmivH-1MBn"
   },
   "outputs": [],
   "source": []
  }
 ],
 "metadata": {
  "colab": {
   "default_view": {},
   "name": "Lab08-Experiment1.ipynb",
   "provenance": [],
   "version": "0.3.2",
   "views": {}
  },
  "kernelspec": {
   "display_name": "Python 3",
   "language": "python",
   "name": "python3"
  },
  "language_info": {
   "codemirror_mode": {
    "name": "ipython",
    "version": 3
   },
   "file_extension": ".py",
   "mimetype": "text/x-python",
   "name": "python",
   "nbconvert_exporter": "python",
   "pygments_lexer": "ipython3",
   "version": "3.7.4"
  }
 },
 "nbformat": 4,
 "nbformat_minor": 1
}
