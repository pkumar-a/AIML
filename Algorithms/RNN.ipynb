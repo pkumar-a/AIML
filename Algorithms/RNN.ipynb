{
 "cells": [
  {
   "cell_type": "code",
   "execution_count": 18,
   "metadata": {},
   "outputs": [],
   "source": [
    "## Importing required packages\n",
    "import unidecode\n",
    "import string\n",
    "import random\n",
    "import re"
   ]
  },
  {
   "cell_type": "code",
   "execution_count": 19,
   "metadata": {},
   "outputs": [
    {
     "name": "stdout",
     "output_type": "stream",
     "text": [
      "file_len = 1115393\n"
     ]
    }
   ],
   "source": [
    "all_characters = string.printable\n",
    "## code to find length of all_characters and storing the value in n_characters\n",
    "n_characters = len(all_characters)\n",
    "## code to convert unicode characters into plain ASCII.\n",
    "file = unidecode.unidecode(open('shakespeare.txt').read())\n",
    "## code to find length of the file\n",
    "file_len = len(file)\n",
    "## printing the length of the file\n",
    "print('file_len =', file_len)"
   ]
  },
  {
   "cell_type": "code",
   "execution_count": 20,
   "metadata": {
    "scrolled": true
   },
   "outputs": [
    {
     "data": {
      "text/plain": [
       "\"First Citizen:\\nBefore we proceed any further, hear me speak.\\n\\nAll:\\nSpeak, speak.\\n\\nFirst Citizen:\\nYou are all resolved rather to die than to famish?\\n\\nAll:\\nResolved. resolved.\\n\\nFirst Citizen:\\nFirst, you know Caius Marcius is chief enemy to the people.\\n\\nAll:\\nWe know't, we know't.\\n\\nFirst Citizen:\\nLet us kill him, and we'll have corn at our own price.\\nIs't a verdict?\\n\\nAll:\\nNo more talking on't; let it be done: away, away!\\n\\nSecond Citizen:\\nOne word, good citizens.\\n\\nFirst Citizen:\\nWe are accounted poor citizens, the patricians good.\\nWhat authority surfeits on would relieve us: if they\\nwould yield us but the superfluity, while it were\\nwholesome, we might guess they relieved us humanely;\\nbut they think we are too dear: the leanness that\\nafflicts us, the object of our misery, is as an\\ninventory to particularise their abundance; our\\nsufferance is a gain to them Let us revenge this with\\nour pikes, ere we become rakes: for the gods know I\\nspeak this in hunger for bread, not in thirst for revenge.\\n\\n\""
      ]
     },
     "execution_count": 20,
     "metadata": {},
     "output_type": "execute_result"
    }
   ],
   "source": [
    "file[:1000]"
   ]
  },
  {
   "cell_type": "code",
   "execution_count": 21,
   "metadata": {},
   "outputs": [
    {
     "name": "stdout",
     "output_type": "stream",
     "text": [
      "she deny to wed, I'll crave the day\n",
      "When I shall ask the banns and when be married.\n",
      "But here she comes; and now, Petruchio, speak.\n",
      "Good morrow, Kate; for that's your name, I hear.\n",
      "\n",
      "KATHARINA:\n",
      "Well have\n"
     ]
    }
   ],
   "source": [
    "## Initializing the length of chunk\n",
    "chunk_len = 200\n",
    "## Function to split the string into chunks\n",
    "def random_chunk():\n",
    "    ## Initializing the starting index value of the big string \n",
    "    start_index = random.randint(0, file_len - chunk_len)\n",
    "    ## Initializing the ending index of the string \n",
    "    end_index = start_index + chunk_len + 1\n",
    "    ## returning the chunk\n",
    "    return file[start_index:end_index]\n",
    "\n",
    "print(random_chunk())"
   ]
  },
  {
   "cell_type": "code",
   "execution_count": 22,
   "metadata": {},
   "outputs": [],
   "source": [
    "###importing required packages\n",
    "import torch\n",
    "import torch.nn as nn\n",
    "from torch.autograd import Variable\n",
    "\n",
    "### Creating recurrent neural network\n",
    "class RNN(nn.Module):\n",
    "    \n",
    "    def __init__(self, input_size, hidden_size, output_size, n_layers=1):\n",
    "        super(RNN, self).__init__()\n",
    "        self.input_size = input_size\n",
    "        self.hidden_size = hidden_size\n",
    "        self.output_size = output_size\n",
    "        self.n_layers = n_layers\n",
    "        self.encoder = nn.Embedding(input_size, hidden_size)\n",
    "        self.gru = nn.GRU(hidden_size, hidden_size, n_layers)\n",
    "        self.decoder = nn.Linear(hidden_size, output_size)\n",
    "    \n",
    "    def forward(self, input, hidden):\n",
    "        input = self.encoder(input.view(1, -1))\n",
    "        output, hidden = self.gru(input.view(1, 1, -1), hidden)\n",
    "        output = self.decoder(output.view(1, -1))\n",
    "        return output, hidden\n",
    "\n",
    "    def init_hidden(self):\n",
    "        return Variable(torch.zeros(self.n_layers, 1, self.hidden_size))"
   ]
  },
  {
   "cell_type": "code",
   "execution_count": 23,
   "metadata": {},
   "outputs": [
    {
     "name": "stdout",
     "output_type": "stream",
     "text": [
      "tensor([10, 11, 12, 39, 40, 41])\n"
     ]
    }
   ],
   "source": [
    "# Turn string into list of longs\n",
    "def char_tensor(string):\n",
    "    ## tensor is a array\n",
    "    tensor = torch.zeros(len(string)).long()\n",
    "    for c in range(len(string)):\n",
    "        tensor[c] = all_characters.index(string[c])\n",
    "    return Variable(tensor)\n",
    "\n",
    "print(char_tensor('abcDEF'))"
   ]
  },
  {
   "cell_type": "code",
   "execution_count": 24,
   "metadata": {},
   "outputs": [],
   "source": [
    "def random_training_set():    \n",
    "    chunk = random_chunk()\n",
    "    inp = char_tensor(chunk[:-1])\n",
    "    target = char_tensor(chunk[1:])\n",
    "    return inp, target"
   ]
  },
  {
   "cell_type": "code",
   "execution_count": 25,
   "metadata": {},
   "outputs": [],
   "source": [
    "def evaluate(prime_str='A', predict_len=100, temperature=0.8):\n",
    "    hidden = decoder.init_hidden()\n",
    "    prime_input = char_tensor(prime_str)\n",
    "    predicted = prime_str\n",
    "\n",
    "    # Use priming string to \"build up\" hidden state\n",
    "    for p in range(len(prime_str) - 1):\n",
    "        _, hidden = decoder(prime_input[p], hidden)\n",
    "    inp = prime_input[-1]\n",
    "    \n",
    "    for p in range(predict_len):\n",
    "        output, hidden = decoder(inp, hidden)\n",
    "        \n",
    "        # Sample from the network as a multinomial distribution\n",
    "        output_dist = output.data.view(-1).div(temperature).exp()\n",
    "        top_i = torch.multinomial(output_dist, 1)[0]\n",
    "        \n",
    "        # Add predicted character to string and use as next input\n",
    "        predicted_char = all_characters[top_i]\n",
    "        predicted += predicted_char\n",
    "        inp = char_tensor(predicted_char)\n",
    "\n",
    "    return predicted"
   ]
  },
  {
   "cell_type": "code",
   "execution_count": 26,
   "metadata": {},
   "outputs": [],
   "source": [
    "## Importing required packages\n",
    "import time, math\n",
    "## function to print amount of time passed\n",
    "def time_since(since):\n",
    "    s = time.time() - since\n",
    "    m = math.floor(s / 60)\n",
    "    s -= m * 60\n",
    "    return '%dm %ds' % (m, s)"
   ]
  },
  {
   "cell_type": "code",
   "execution_count": 29,
   "metadata": {},
   "outputs": [],
   "source": [
    "def train(inp, target):\n",
    "    hidden = decoder.init_hidden()\n",
    "    decoder.zero_grad()\n",
    "    loss = 0\n",
    "\n",
    "    for c in range(chunk_len):\n",
    "        output, hidden = decoder(inp[c], hidden)\n",
    "        loss += criterion(output, target[c].unsqueeze(0))\n",
    "\n",
    "    loss.backward()\n",
    "    decoder_optimizer.step()\n",
    "\n",
    "    return loss.data.item() / chunk_len"
   ]
  },
  {
   "cell_type": "code",
   "execution_count": 30,
   "metadata": {},
   "outputs": [
    {
     "name": "stdout",
     "output_type": "stream",
     "text": [
      "[0m 12s (50 2%) 2.5361]\n",
      "Whin find yintals to yoow mest some woplome g hard man tof it! otor toucnresss sound acdin!\n",
      "Misgly ber \n",
      "\n",
      "[0m 28s (100 5%) 2.4215]\n",
      "WhAnger sae lavurring no ury I ant bere ferait hing fote frour meale dingh seare,\n",
      "And my Hnathin gre k \n",
      "\n",
      "[0m 43s (150 7%) 2.2203]\n",
      "Whes that el, that to the the home the the shere wer bertall preain ursis the sing hese to brow an the \n",
      "\n",
      "[0m 57s (200 10%) 1.9565]\n",
      "Whe curs to my of the sive dive manes,\n",
      "And all lor, allis the dfil atim this Thee ars lomple my the er \n",
      "\n",
      "[1m 11s (250 12%) 2.1933]\n",
      "Whatt not whe shall with whash withes\n",
      "Mise hat be wefarke the have talasies thend but shat santest the \n",
      "\n",
      "[1m 28s (300 15%) 2.0031]\n",
      "Whis a the we he con the the this at the metinot ture a put not crect,\n",
      "And the his lastire this metie  \n",
      "\n",
      "[1m 43s (350 17%) 2.0141]\n",
      "Whith come.\n",
      "\n",
      "PRATER:\n",
      "With thas unist fold becop's, not trubple preent nught and by no thene and ay of  \n",
      "\n",
      "[1m 57s (400 20%) 2.0189]\n",
      "Whhen the to the and sell jeace the thee for no\n",
      "And of the for but thee, a hem for sworl Yous pose: me \n",
      "\n",
      "[2m 12s (450 22%) 1.7507]\n",
      "Whtace our untuin mour med apes.\n",
      "\n",
      "OLORER:\n",
      "Thore Emon, and and thou tald, then lord:\n",
      "What to our your w \n",
      "\n",
      "[2m 28s (500 25%) 1.9437]\n",
      "Whered remoningry wade theer, the.\n",
      "Sear with and this from be thote lord:\n",
      "I then freancenter,\n",
      "The of m \n",
      "\n",
      "[2m 46s (550 27%) 1.9989]\n",
      "What to enatset our sme, wake a comea,\n",
      "And wore on thee sent to mayy, how we do\n",
      "you, the home,\n",
      "You dry \n",
      "\n",
      "[3m 4s (600 30%) 2.1764]\n",
      "Why, sumt in fort the sorm:\n",
      "Bnow gaink'st, Eg\n",
      "And bow Hat is to mube but are carsh the my bas your for \n",
      "\n",
      "[3m 20s (650 32%) 1.7847]\n",
      "What, and fath shud this lid thouse\n",
      "And you bell thou her than here pardens;\n",
      "Ind her for flatcent be m \n",
      "\n",
      "[3m 35s (700 35%) 1.8814]\n",
      "Whid;\n",
      "The care for that them acpens;\n",
      "Now have to dost it the by would bposouase.\n",
      "\n",
      "CORIOLANUS:\n",
      "I wilde  \n",
      "\n",
      "[3m 52s (750 37%) 2.0870]\n",
      "What our to cursep, in\n",
      "And see, I mases, for this is is and crace cheim dier\n",
      "Wice have with mord then. \n",
      "\n",
      "[4m 9s (800 40%) 1.6407]\n",
      "What, in mines,\n",
      "Lord the mouse your be and the const as\n",
      "The mass on his how me centrarrise menes of my \n",
      "\n",
      "[4m 26s (850 42%) 2.0495]\n",
      "Whith news,\n",
      "The sentin or not shashorused woote bencious stande.\n",
      "\n",
      "My Lextyer,\n",
      "For see\n",
      "Throust lond ant \n",
      "\n",
      "[4m 46s (900 45%) 1.8708]\n",
      "Which thou was my may: much tarso as pretlatake\n",
      "That is that blook now.\n",
      "\n",
      "SiRY LAPLCAUCENTEN:\n",
      "\n",
      "POLCIONE \n",
      "\n",
      "[5m 2s (950 47%) 1.7906]\n",
      "Whereed stead shall her\n",
      "We do himbt\n",
      "There the warllard lord.\n",
      "\n",
      "RICHARD II:\n",
      "I hontear thee afface,\n",
      "And w \n",
      "\n",
      "[5m 17s (1000 50%) 2.0095]\n",
      "Whard that homans!\n",
      "\n",
      "Sitch, mift I the with the poow,\n",
      "Your hast, by this gadeath with one,\n",
      "But nauy of  \n",
      "\n",
      "[5m 32s (1050 52%) 2.0078]\n",
      "Whim.\n",
      "\n",
      "DUKE VICHIONIO:\n",
      "Let my saitles ifted bestorn, ma.\n",
      "In in excius as to hope, sead thou his my to  \n",
      "\n",
      "[5m 51s (1100 55%) 1.8432]\n",
      "Why, my not me not for these say thou how Mamen.\n",
      "\n",
      "Second AnKolusleschand'd herust you marrier see, be  \n",
      "\n",
      "[6m 6s (1150 57%) 1.9287]\n",
      "Where! as acks it's grating fater before ot my so the thear tooker;\n",
      "And insture up to and a you ampens \n",
      "\n",
      "[6m 20s (1200 60%) 1.7523]\n",
      "Wheremies fore, why,\n",
      "Who strap his sall,\n",
      "Yee a lies right forly you.\n",
      "\n",
      "ROMEO:\n",
      "Of come, what shall not f \n",
      "\n",
      "[6m 35s (1250 62%) 1.8199]\n",
      "Which, What that but the fign of the which so wery have wild walss, thee sell\n",
      "To shou carpers,\n",
      "I earl  \n",
      "\n",
      "[6m 49s (1300 65%) 2.0788]\n",
      "Whould for thy wide is theath:\n",
      "His brother worn the home, what thy havy date\n",
      "\n",
      "LORD: I come: heel; I ra \n",
      "\n",
      "[7m 5s (1350 67%) 1.8328]\n",
      "Whered of come's will mencence of my have hese\n",
      "Not is me!\n",
      "Mil fear wive mine is to my herene be comes, \n",
      "\n",
      "[7m 20s (1400 70%) 1.8442]\n",
      "Whrod make quicliple.\n",
      "\n",
      "BATHIO:\n",
      "What, wansey our broust ears of newns,\n",
      "To I parsered in the kook, was,  \n",
      "\n",
      "[7m 35s (1450 72%) 1.6281]\n",
      "Whard so man hape more I shall give your what now milons,\n",
      "Well that to so kinst me:\n",
      "But rigest you sha \n",
      "\n",
      "[7m 50s (1500 75%) 1.9080]\n",
      "Whurs down lood,\n",
      "For beath, for on shall to no the deathart say,\n",
      "And Kasied by my him counters there t \n",
      "\n",
      "[8m 8s (1550 77%) 2.0586]\n",
      "Where; feep\n",
      "I duknen of me to but here'd are you promoth\n",
      "Days you stive he was prince, ase live af as  \n",
      "\n",
      "[8m 29s (1600 80%) 1.8020]\n",
      "Why, from my lord?\n",
      "\n",
      "PETRUCHIO:\n",
      "Plesterce worghine clauces, sour him-untarnath\n",
      "Rever the kengue hislest \n",
      "\n",
      "[8m 49s (1650 82%) 1.8445]\n",
      "Where for my state, shelm,\n",
      "The good me.\n",
      "\n",
      "QUEEN:\n",
      "I he know sins this majession, and him; and him,\n",
      "Hey h \n",
      "\n",
      "[9m 12s (1700 85%) 1.7840]\n",
      "Why.\n",
      "\n",
      "HORD III:\n",
      "Ad, well she and no thou king.\n",
      "\n",
      "VINCENTIO:\n",
      "Than's go move alace to my love\n",
      "To kis plac \n",
      "\n",
      "[9m 32s (1750 87%) 1.6198]\n",
      "Whind, Witlast, not not beath as despardo, ase they his tell,\n",
      "The from made we do not the heard, so ha \n",
      "\n",
      "[9m 52s (1800 90%) 1.8205]\n",
      "Whis,\n",
      "His sain to senforn be all me\n",
      "noth for will bler this was be but carrivith noth\n",
      "Where exerted di \n",
      "\n",
      "[10m 15s (1850 92%) 2.0110]\n",
      "Which were'd doy's desteling.\n",
      "\n",
      "QUEEN:\n",
      "O, and he Engllithy ale not?\n",
      "To be do degant omele.\n",
      "\n",
      "CORIOLCUS:\n",
      " \n",
      "\n",
      "[10m 35s (1900 95%) 1.4385]\n",
      "What it his liver,\n",
      "What quor the in to your sides\n",
      "It me his me.\n",
      "\n",
      "LUCHIO:\n",
      "But I harth by his for her wi \n",
      "\n",
      "[10m 56s (1950 97%) 1.7293]\n",
      "Which Ve do the swear, lohed frome,\n",
      "Love, you respess, Tome hath man:\n",
      "Of more so comess a these come;\n",
      " \n",
      "\n",
      "[11m 15s (2000 100%) 1.5256]\n",
      "What his beforough herm hen, good lace; the kiods.\n",
      "\n",
      "FRIAR MARGARET:\n",
      "I hath bortaught spake then before \n",
      "\n"
     ]
    }
   ],
   "source": [
    "n_epochs = 2000 #Number of epochs\n",
    "print_every = 50\n",
    "plot_every = 20\n",
    "hidden_size = 100\n",
    "n_layers = 1\n",
    "lr = 0.005\n",
    "\n",
    "decoder = RNN(n_characters, hidden_size, n_characters, n_layers)\n",
    "## Optimizer\n",
    "decoder_optimizer = torch.optim.Adam(decoder.parameters(), lr=lr)\n",
    "## Loss function\n",
    "criterion = nn.CrossEntropyLoss()\n",
    "\n",
    "start = time.time()\n",
    "all_losses = []\n",
    "loss_avg = 0\n",
    "\n",
    "#In this for loop for every 100th iteration we are printing the time taken, loss and the chunk.\n",
    "for epoch in range(1, n_epochs + 1):\n",
    "    loss = train(*random_training_set())       \n",
    "    loss_avg += loss\n",
    "\n",
    "    if epoch % print_every == 0:\n",
    "        print('[%s (%d %d%%) %.4f]' % (time_since(start), epoch, epoch / n_epochs * 100, loss))\n",
    "        print(evaluate('Wh', 100), '\\n')\n",
    "\n",
    "    if epoch % plot_every == 0:\n",
    "        all_losses.append(loss_avg / plot_every)\n",
    "        loss_avg = 0"
   ]
  },
  {
   "cell_type": "code",
   "execution_count": 32,
   "metadata": {},
   "outputs": [
    {
     "data": {
      "text/plain": [
       "Text(0, 0.5, 'loss')"
      ]
     },
     "execution_count": 32,
     "metadata": {},
     "output_type": "execute_result"
    },
    {
     "data": {
      "image/png": "[encoded data removed]",
      "text/plain": [
       "<Figure size 432x288 with 1 Axes>"
      ]
     },
     "metadata": {
      "needs_background": "light"
     },
     "output_type": "display_data"
    }
   ],
   "source": [
    "import matplotlib.pyplot as plt\n",
    "import matplotlib.ticker as ticker\n",
    "%matplotlib inline\n",
    "\n",
    "plt.figure()\n",
    "plt.plot(all_losses)\n",
    "plt.xlabel(\"epoch\")\n",
    "plt.ylabel(\"loss\")"
   ]
  },
  {
   "cell_type": "code",
   "execution_count": 33,
   "metadata": {},
   "outputs": [
    {
     "name": "stdout",
     "output_type": "stream",
     "text": [
      "ut is denones\n",
      "And cobelain death here the them let twomal.\n",
      "\n",
      "KING Marged onder was deartlans;\n",
      "I all fight have onemit supposel our thee band.\n",
      "\n",
      "DUCESTES:\n",
      "I hould will brie in the head of Shame\n",
      "And the be\n"
     ]
    }
   ],
   "source": [
    "print(evaluate('u', 200, temperature=0.8))"
   ]
  },
  {
   "cell_type": "code",
   "execution_count": 34,
   "metadata": {},
   "outputs": [
    {
     "name": "stdout",
     "output_type": "stream",
     "text": [
      "how tect;\n",
      "Gow, Ge lesiorent Kbided Coomow gnuittighemew,\n",
      "Hall have my hast,\n",
      "Be sumt noblost me bigh is not, foul cofuge.\n",
      "Pay, yout: me tajeting, with tr, tim\n",
      "Yeepen'ot brihre soorm of tonlen deeir,-\n",
      "Qner\n"
     ]
    }
   ],
   "source": [
    "print(evaluate('how', 200, temperature=1.4))"
   ]
  },
  {
   "cell_type": "code",
   "execution_count": null,
   "metadata": {},
   "outputs": [],
   "source": []
  }
 ],
 "metadata": {
  "kernelspec": {
   "display_name": "Python 3",
   "language": "python",
   "name": "python3"
  },
  "language_info": {
   "codemirror_mode": {
    "name": "ipython",
    "version": 3
   },
   "file_extension": ".py",
   "mimetype": "text/x-python",
   "name": "python",
   "nbconvert_exporter": "python",
   "pygments_lexer": "ipython3",
   "version": "3.7.4"
  }
 },
 "nbformat": 4,
 "nbformat_minor": 2
}
