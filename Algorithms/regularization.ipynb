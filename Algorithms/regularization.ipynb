{
 "cells": [
  {
   "cell_type": "code",
   "execution_count": 1,
   "metadata": {},
   "outputs": [],
   "source": [
    "import pandas as pd \n",
    "import numpy as np \n",
    "import matplotlib.pyplot as plt \n",
    "from sklearn.linear_model import LinearRegression, Ridge, Lasso \n",
    "from sklearn.model_selection import train_test_split, cross_val_score \n",
    "from statistics import mean "
   ]
  },
  {
   "cell_type": "code",
   "execution_count": 8,
   "metadata": {},
   "outputs": [
    {
     "data": {
      "text/plain": [
       "False"
      ]
     },
     "execution_count": 8,
     "metadata": {},
     "output_type": "execute_result"
    }
   ],
   "source": [
    "data = pd.read_csv('kc_house_data.csv') \n",
    "data.isnull().values.any()"
   ]
  },
  {
   "cell_type": "code",
   "execution_count": 9,
   "metadata": {},
   "outputs": [],
   "source": [
    "# Dropping the numerically non-sensical variables \n",
    "dropColumns = ['id', 'date', 'zipcode'] \n",
    "data = data.drop(dropColumns, axis = 1) \n",
    "\n",
    "# Separating the dependent and independent variables \n",
    "y = data['price'] \n",
    "X = data.drop('price', axis = 1) \n",
    "\n",
    "# Dividing the data into training and testing set \n",
    "X_train, X_test, y_train, y_test = train_test_split(X, y, test_size = 0.25) "
   ]
  },
  {
   "cell_type": "code",
   "execution_count": 10,
   "metadata": {},
   "outputs": [
    {
     "name": "stdout",
     "output_type": "stream",
     "text": [
      "0.7038471478886595\n"
     ]
    }
   ],
   "source": [
    "# Bulding and fitting the Linear Regression model \n",
    "linearModel = LinearRegression() \n",
    "linearModel.fit(X_train, y_train) \n",
    "\n",
    "# Evaluating the Linear Regression model \n",
    "print(linearModel.score(X_test, y_test)) "
   ]
  },
  {
   "cell_type": "code",
   "execution_count": null,
   "metadata": {},
   "outputs": [],
   "source": [
    "#Ridge(L2) Regression"
   ]
  },
  {
   "cell_type": "code",
   "execution_count": 11,
   "metadata": {},
   "outputs": [
    {
     "name": "stdout",
     "output_type": "stream",
     "text": [
      "0.25 : 69.09039943128884\n",
      "0.5 : 69.09057554458555\n",
      "0.75 : 69.09073194564492\n",
      "1.0 : 69.09086883699763\n",
      "1.25 : 69.09098641885294\n",
      "1.5 : 69.09108488912979\n",
      "1.75 : 69.09116444348747\n",
      "2.0 : 69.09122527535538\n"
     ]
    }
   ],
   "source": [
    "# List to maintain the different cross-validation scores \n",
    "cross_val_scores_ridge = [] \n",
    "\n",
    "# List to maintain the different values of alpha \n",
    "alpha = [] \n",
    "\n",
    "# Loop to compute the different values of cross-validation scores \n",
    "for i in range(1, 9): \n",
    "    ridgeModel = Ridge(alpha = i * 0.25) \n",
    "    ridgeModel.fit(X_train, y_train) \n",
    "    scores = cross_val_score(ridgeModel, X, y, cv = 10) \n",
    "    avg_cross_val_score = mean(scores)*100\n",
    "    cross_val_scores_ridge.append(avg_cross_val_score) \n",
    "    alpha.append(i * 0.25) \n",
    "\n",
    "# Loop to print the different values of cross-validation scores \n",
    "for i in range(0, len(alpha)): \n",
    "    print(str(alpha[i])+' : '+str(cross_val_scores_ridge[i])) \n"
   ]
  },
  {
   "cell_type": "code",
   "execution_count": 12,
   "metadata": {},
   "outputs": [
    {
     "name": "stdout",
     "output_type": "stream",
     "text": [
      "0.7040417433266691\n"
     ]
    }
   ],
   "source": [
    "# Building and fitting the Ridge Regression model \n",
    "ridgeModelChosen = Ridge(alpha = 2) \n",
    "ridgeModelChosen.fit(X_train, y_train) \n",
    "\n",
    "# Evaluating the Ridge Regression model \n",
    "print(ridgeModelChosen.score(X_test, y_test)) "
   ]
  },
  {
   "cell_type": "code",
   "execution_count": null,
   "metadata": {},
   "outputs": [],
   "source": [
    "#Lasso(L1) Regression"
   ]
  },
  {
   "cell_type": "code",
   "execution_count": 13,
   "metadata": {},
   "outputs": [
    {
     "name": "stdout",
     "output_type": "stream",
     "text": [
      "0.25 : 69.09020889338363\n",
      "0.5 : 69.09021436304992\n",
      "0.75 : 69.09021980337022\n",
      "1.0 : 69.09022521931556\n",
      "1.25 : 69.09023060760678\n",
      "1.5 : 69.09023596857334\n",
      "1.75 : 69.09024130374362\n",
      "2.0 : 69.09024661093869\n"
     ]
    }
   ],
   "source": [
    "# List to maintain the cross-validation scores \n",
    "cross_val_scores_lasso = [] \n",
    "\n",
    "# List to maintain the different values of Lambda \n",
    "Lambda = [] \n",
    "\n",
    "# Loop to compute the cross-validation scores \n",
    "for i in range(1, 9): \n",
    "    lassoModel = Lasso(alpha = i * 0.25, tol = 0.0925) \n",
    "    lassoModel.fit(X_train, y_train) \n",
    "    scores = cross_val_score(lassoModel, X, y, cv = 10) \n",
    "    avg_cross_val_score = mean(scores)*100\n",
    "    cross_val_scores_lasso.append(avg_cross_val_score) \n",
    "    Lambda.append(i * 0.25) \n",
    "\n",
    "# Loop to print the different values of cross-validation scores \n",
    "for i in range(0, len(alpha)): \n",
    "    print(str(alpha[i])+' : '+str(cross_val_scores_lasso[i])) "
   ]
  },
  {
   "cell_type": "code",
   "execution_count": 14,
   "metadata": {},
   "outputs": [
    {
     "name": "stdout",
     "output_type": "stream",
     "text": [
      "0.7038521283874354\n"
     ]
    }
   ],
   "source": [
    "# Building and fitting the Lasso Regression Model \n",
    "lassoModelChosen = Lasso(alpha = 2, tol = 0.0925) \n",
    "lassoModelChosen.fit(X_train, y_train) \n",
    "\n",
    "# Evaluating the Lasso Regression model \n",
    "print(lassoModelChosen.score(X_test, y_test)) "
   ]
  },
  {
   "cell_type": "code",
   "execution_count": null,
   "metadata": {},
   "outputs": [],
   "source": [
    " #Comparing and Visualizing the results"
   ]
  },
  {
   "cell_type": "code",
   "execution_count": 15,
   "metadata": {},
   "outputs": [
    {
     "name": "stdout",
     "output_type": "stream",
     "text": [
      "Linear Regreesion : 0.7038471478886595\n",
      "Ridge Regreesion : 0.7040417433266691\n",
      "Lasso Regression : 0.7038521283874354\n"
     ]
    }
   ],
   "source": [
    "# Building the two lists for visualization \n",
    "models = ['Linear Regression', 'Ridge Regression', 'Lasso Regression'] \n",
    "scores = [linearModel.score(X_test, y_test), \n",
    "        ridgeModelChosen.score(X_test, y_test), \n",
    "        lassoModelChosen.score(X_test, y_test)] \n",
    "\n",
    "# Building the dictionary to compare the scores \n",
    "mapping = {} \n",
    "mapping['Linear Regreesion'] = linearModel.score(X_test, y_test) \n",
    "mapping['Ridge Regreesion'] = ridgeModelChosen.score(X_test, y_test) \n",
    "mapping['Lasso Regression'] = lassoModelChosen.score(X_test, y_test) \n",
    "\n",
    "# Printing the scores for different models \n",
    "for key, val in mapping.items(): \n",
    "    print(str(key)+' : '+str(val)) "
   ]
  },
  {
   "cell_type": "code",
   "execution_count": 16,
   "metadata": {},
   "outputs": [
    {
     "data": {
      "image/png": "[encoded data removed]",
      "text/plain": [
       "<Figure size 432x288 with 1 Axes>"
      ]
     },
     "metadata": {
      "needs_background": "light"
     },
     "output_type": "display_data"
    }
   ],
   "source": [
    "# Plotting the scores \n",
    "plt.bar(models, scores) \n",
    "plt.xlabel('Regression Models') \n",
    "plt.ylabel('Score') \n",
    "plt.show() "
   ]
  },
  {
   "cell_type": "code",
   "execution_count": null,
   "metadata": {},
   "outputs": [],
   "source": []
  }
 ],
 "metadata": {
  "kernelspec": {
   "display_name": "Python 3",
   "language": "python",
   "name": "python3"
  },
  "language_info": {
   "codemirror_mode": {
    "name": "ipython",
    "version": 3
   },
   "file_extension": ".py",
   "mimetype": "text/x-python",
   "name": "python",
   "nbconvert_exporter": "python",
   "pygments_lexer": "ipython3",
   "version": "3.7.4"
  }
 },
 "nbformat": 4,
 "nbformat_minor": 2
}
